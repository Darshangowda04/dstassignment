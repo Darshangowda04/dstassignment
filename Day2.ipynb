{
 "cells": [
  {
   "cell_type": "code",
   "execution_count": 5,
   "id": "66214549-1407-44bf-b3f4-ca4f32207e45",
   "metadata": {},
   "outputs": [
    {
     "name": "stdout",
     "output_type": "stream",
     "text": [
      "Matrix Multiplication Result:\n",
      " [[65. 55.]\n",
      " [55. 53.]]\n"
     ]
    }
   ],
   "source": [
    "import numpy as np\n",
    "\n",
    "def custom_matrix_multiply(A, B):\n",
    "    if A.shape[1] != B.shape[0]:\n",
    "        raise ValueError(\"Incompatible dimensions for matrix multiplication.\")\n",
    "    \n",
    "    result = np.zeros((A.shape[0], B.shape[1]))\n",
    "    \n",
    "    for i in range(A.shape[0]):\n",
    "        for j in range(B.shape[1]):\n",
    "            for k in range(B.shape[0]):\n",
    "                result[i][j] += A[i][k] * B[k][j]\n",
    "    \n",
    "    return result\n",
    "A = np.array([[1, 6], [3, 4]])\n",
    "B = np.array([[5, 7], [10, 8]])\n",
    "\n",
    "result = custom_matrix_multiply(A, B)\n",
    "print(\"Matrix Multiplication Result:\\n\", result)\n"
   ]
  },
  {
   "cell_type": "code",
   "execution_count": 9,
   "id": "a2f9334e-6818-415c-9bac-1eddcadc5735",
   "metadata": {},
   "outputs": [
    {
     "name": "stdout",
     "output_type": "stream",
     "text": [
      "[ 50.  20.  30.  80. 100.]\n"
     ]
    }
   ],
   "source": [
    "data = np.array([50, 20, 30, 80, 100], dtype=float)\n",
    "print(data)"
   ]
  },
  {
   "cell_type": "code",
   "execution_count": 11,
   "id": "e17e57f5-48f4-49b4-9564-659ce9d3f9f2",
   "metadata": {},
   "outputs": [
    {
     "name": "stdout",
     "output_type": "stream",
     "text": [
      "Min-Max Scaled:\n",
      " [0.375 0.    0.125 0.75  1.   ]\n"
     ]
    }
   ],
   "source": [
    "def min_max_scaling(x):\n",
    "    x_min = np.min(x)\n",
    "    x_max = np.max(x)\n",
    "    return (x - x_min) / (x_max - x_min)\n",
    "\n",
    "scaled_data = min_max_scaling(data)\n",
    "print(\"Min-Max Scaled:\\n\", scaled_data)\n"
   ]
  },
  {
   "cell_type": "code",
   "execution_count": 13,
   "id": "7d73fbd6-033b-4271-a165-450ec22639e3",
   "metadata": {},
   "outputs": [
    {
     "name": "stdout",
     "output_type": "stream",
     "text": [
      "Standardized Data:\n",
      " [-0.19955703 -1.19734219 -0.86474714  0.79822813  1.46341823]\n"
     ]
    }
   ],
   "source": [
    "def standardize(x):\n",
    "    mean = np.mean(x)\n",
    "    std = np.std(x)\n",
    "    return (x - mean) / std\n",
    "\n",
    "standardized_data = standardize(data)\n",
    "print(\"Standardized Data:\\n\", standardized_data)\n"
   ]
  },
  {
   "cell_type": "code",
   "execution_count": null,
   "id": "8669c3be-40e8-4af8-a23f-789d89a03944",
   "metadata": {},
   "outputs": [],
   "source": []
  }
 ],
 "metadata": {
  "kernelspec": {
   "display_name": "Python [conda env:base] *",
   "language": "python",
   "name": "conda-base-py"
  },
  "language_info": {
   "codemirror_mode": {
    "name": "ipython",
    "version": 3
   },
   "file_extension": ".py",
   "mimetype": "text/x-python",
   "name": "python",
   "nbconvert_exporter": "python",
   "pygments_lexer": "ipython3",
   "version": "3.12.7"
  }
 },
 "nbformat": 4,
 "nbformat_minor": 5
}
