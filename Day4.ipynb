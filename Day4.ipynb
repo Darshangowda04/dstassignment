{
 "cells": [
  {
   "cell_type": "code",
   "execution_count": 1,
   "id": "dd685560-fbcb-461e-bf2a-e06d4d7bd01b",
   "metadata": {},
   "outputs": [],
   "source": [
    "import pandas as pd\n",
    "data=pd.read_csv(r\"C:\\Users\\Darsh\\Downloads\\fetch_california_housing.csv\")"
   ]
  },
  {
   "cell_type": "code",
   "execution_count": 3,
   "id": "ad56d0d2-f19f-46f8-abb3-85e3a4c639cf",
   "metadata": {},
   "outputs": [
    {
     "data": {
      "text/html": [
       "<div>\n",
       "<style scoped>\n",
       "    .dataframe tbody tr th:only-of-type {\n",
       "        vertical-align: middle;\n",
       "    }\n",
       "\n",
       "    .dataframe tbody tr th {\n",
       "        vertical-align: top;\n",
       "    }\n",
       "\n",
       "    .dataframe thead th {\n",
       "        text-align: right;\n",
       "    }\n",
       "</style>\n",
       "<table border=\"1\" class=\"dataframe\">\n",
       "  <thead>\n",
       "    <tr style=\"text-align: right;\">\n",
       "      <th></th>\n",
       "      <th>MedInc\\tHouseAge\\tAveRooms\\tMedHouseValue</th>\n",
       "    </tr>\n",
       "  </thead>\n",
       "  <tbody>\n",
       "    <tr>\n",
       "      <th>0</th>\n",
       "      <td>0.3252\\t41.0\\t6.9841\\t4.526</td>\n",
       "    </tr>\n",
       "    <tr>\n",
       "      <th>1</th>\n",
       "      <td>1.3014\\t21.0\\t6.2381\\t3.585</td>\n",
       "    </tr>\n",
       "    <tr>\n",
       "      <th>2</th>\n",
       "      <td>2.2574\\t52.0\\t8.2881\\t3.521</td>\n",
       "    </tr>\n",
       "    <tr>\n",
       "      <th>3</th>\n",
       "      <td>3.6431\\t52.0\\t5.8174\\t3.413</td>\n",
       "    </tr>\n",
       "    <tr>\n",
       "      <th>4</th>\n",
       "      <td>4.8462\\t52.0\\t6.2819\\t3.422</td>\n",
       "    </tr>\n",
       "  </tbody>\n",
       "</table>\n",
       "</div>"
      ],
      "text/plain": [
       "  MedInc\\tHouseAge\\tAveRooms\\tMedHouseValue\n",
       "0               0.3252\\t41.0\\t6.9841\\t4.526\n",
       "1               1.3014\\t21.0\\t6.2381\\t3.585\n",
       "2               2.2574\\t52.0\\t8.2881\\t3.521\n",
       "3               3.6431\\t52.0\\t5.8174\\t3.413\n",
       "4               4.8462\\t52.0\\t6.2819\\t3.422"
      ]
     },
     "execution_count": 3,
     "metadata": {},
     "output_type": "execute_result"
    }
   ],
   "source": [
    "data.head()"
   ]
  },
  {
   "cell_type": "code",
   "execution_count": 5,
   "id": "425ac973-4e2b-4806-bd22-6965d8b09bfd",
   "metadata": {},
   "outputs": [],
   "source": [
    "from sklearn.datasets import fetch_california_housing\n",
    "from sklearn.linear_model import LinearRegression\n",
    "from sklearn.model_selection import train_test_split\n",
    "from sklearn.metrics import mean_absolute_error, mean_squared_error, r2_score\n",
    "import pandas as pd\n",
    "\n",
    "california = fetch_california_housing()\n",
    "X = pd.DataFrame(california.data, columns=california.feature_names)\n",
    "y = pd.Series(california.target, name='MedHouseValue')"
   ]
  },
  {
   "cell_type": "code",
   "execution_count": 7,
   "id": "b460b14a-d97e-49c8-8310-c407839f6236",
   "metadata": {},
   "outputs": [],
   "source": [
    "X_train, X_test, y_train, y_test = train_test_split(X, y, test_size=0.2, random_state=42)"
   ]
  },
  {
   "cell_type": "code",
   "execution_count": 9,
   "id": "e8482309-0f92-408a-ac0a-b3ca489ac7a9",
   "metadata": {},
   "outputs": [
    {
     "name": "stdout",
     "output_type": "stream",
     "text": [
      "Model Evaluation Metrics:\n",
      "Mean Absolute Error (MAE): 0.5332\n",
      "Mean Squared Error (MSE): 0.5559\n",
      "R-squared (R²): 0.5758\n"
     ]
    }
   ],
   "source": [
    "model = LinearRegression()\n",
    "model.fit(X_train, y_train)\n",
    "\n",
    "y_pred = model.predict(X_test)\n",
    "\n",
    "mae = mean_absolute_error(y_test, y_pred)\n",
    "mse = mean_squared_error(y_test, y_pred)\n",
    "r2 = r2_score(y_test, y_pred)\n",
    "\n",
    "print(\"Model Evaluation Metrics:\")\n",
    "print(f\"Mean Absolute Error (MAE): {mae:.4f}\")\n",
    "print(f\"Mean Squared Error (MSE): {mse:.4f}\")\n",
    "print(f\"R-squared (R²): {r2:.4f}\")"
   ]
  },
  {
   "cell_type": "code",
   "execution_count": 11,
   "id": "182cf8b3-ad82-428e-ac1a-172bc0ddebb1",
   "metadata": {},
   "outputs": [
    {
     "name": "stdout",
     "output_type": "stream",
     "text": [
      "      Feature  Coefficient\n",
      "0      MedInc     0.448675\n",
      "1    HouseAge     0.009724\n",
      "2    AveRooms    -0.123323\n",
      "3   AveBedrms     0.783145\n",
      "4  Population    -0.000002\n",
      "5    AveOccup    -0.003526\n",
      "6    Latitude    -0.419792\n",
      "7   Longitude    -0.433708\n"
     ]
    }
   ],
   "source": [
    "coefficients = pd.DataFrame({\n",
    "    'Feature': X.columns,\n",
    "    'Coefficient': model.coef_\n",
    "})\n",
    "print(coefficients)\n"
   ]
  },
  {
   "cell_type": "code",
   "execution_count": 13,
   "id": "44f7a9b5-e46f-4792-a0ae-bdbf2d9bfa3e",
   "metadata": {},
   "outputs": [],
   "source": [
    "import pandas as pd\n",
    "import matplotlib.pyplot as plt\n",
    "import seaborn as sns\n",
    "\n",
    "# Simulated dataset based on your input\n",
    "data = {\n",
    "    'MedInc': [0.3252, 1.3014, 2.2574, 3.6431, 4.8462],\n",
    "    'HouseAge': [41.0, 21.0, 52.0, 52.0, 52.0],\n",
    "    'AveRooms': [6.9841, 6.2381, 8.2881, 5.8174, 6.2819],\n",
    "    'MedHouseValue': [4.526, 3.585, 3.521, 3.413, 3.422]\n",
    "}\n",
    "\n",
    "df = pd.DataFrame(data)\n"
   ]
  },
  {
   "cell_type": "code",
   "execution_count": null,
   "id": "c05dea69-8343-4426-ae6d-2cae0d3c2c39",
   "metadata": {},
   "outputs": [],
   "source": []
  }
 ],
 "metadata": {
  "kernelspec": {
   "display_name": "Python [conda env:base] *",
   "language": "python",
   "name": "conda-base-py"
  },
  "language_info": {
   "codemirror_mode": {
    "name": "ipython",
    "version": 3
   },
   "file_extension": ".py",
   "mimetype": "text/x-python",
   "name": "python",
   "nbconvert_exporter": "python",
   "pygments_lexer": "ipython3",
   "version": "3.12.7"
  }
 },
 "nbformat": 4,
 "nbformat_minor": 5
}
