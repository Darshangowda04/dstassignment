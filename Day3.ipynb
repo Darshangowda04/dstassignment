{
 "cells": [
  {
   "cell_type": "code",
   "execution_count": 1,
   "id": "7778bd24-0609-4963-b958-5a2d8389a341",
   "metadata": {},
   "outputs": [
    {
     "name": "stdout",
     "output_type": "stream",
     "text": [
      "Probability of Heads: 0.6\n",
      "Probability of Tails: 0.4\n"
     ]
    }
   ],
   "source": [
    "total_flips = 100\n",
    "heads = 60\n",
    "tails = 40\n",
    "p_heads = heads / total_flips\n",
    "p_tails = tails / total_flips\n",
    "\n",
    "print(f\"Probability of Heads: {p_heads}\")\n",
    "print(f\"Probability of Tails: {p_tails}\")"
   ]
  },
  {
   "cell_type": "code",
   "execution_count": 3,
   "id": "fcf2bc53-d64b-4e58-8715-6ebe960cc503",
   "metadata": {},
   "outputs": [
    {
     "name": "stdout",
     "output_type": "stream",
     "text": [
      "Probability of disease given positive test: 0.1667\n"
     ]
    }
   ],
   "source": [
    "P_D = 0.01            \n",
    "P_not_D = 1 - P_D     \n",
    "\n",
    "P_Pos_given_D = 0.99   \n",
    "P_Pos_given_not_D = 0.05  \n",
    "\n",
    "# Bayes Theorem\n",
    "numerator = P_Pos_given_D * P_D\n",
    "denominator = (P_Pos_given_D * P_D) + (P_Pos_given_not_D * P_not_D)\n",
    "P_D_given_Pos = numerator / denominator\n",
    "\n",
    "print(f\"Probability of disease given positive test: {P_D_given_Pos:.4f}\")"
   ]
  },
  {
   "cell_type": "code",
   "execution_count": 7,
   "id": "08c0c7b1-cc2a-43c5-92ef-64ab4c877387",
   "metadata": {},
   "outputs": [
    {
     "name": "stdin",
     "output_type": "stream",
     "text": [
      "Enter the value of x:  2\n"
     ]
    },
    {
     "name": "stdout",
     "output_type": "stream",
     "text": [
      "Function: f(x) = 3*x**2 + 2*x - 5\n",
      "Derivative: f'(x) = 6*x + 2\n",
      "Derivative at x = 2.0: 14.0000000000000\n"
     ]
    }
   ],
   "source": [
    "from sympy import symbols, diff\n",
    "\n",
    "def derivative_of_function(point):\n",
    "    x = symbols('x')\n",
    "    f_x = 3*x**2 + 2*x - 5\n",
    "    \n",
    "    der_x = diff(f_x, x)\n",
    "    return f_x, der_x, der_x.subs(x, point)\n",
    "\n",
    "x_point = float(input(\"Enter the value of x: \"))\n",
    "\n",
    "f_x, der_x, der_at_point = derivative_of_function(x_point)\n",
    "\n",
    "print(f\"Function: f(x) = {f_x}\")\n",
    "print(f\"Derivative: f'(x) = {der_x}\")\n",
    "print(f\"Derivative at x = {x_point}: {der_at_point}\")"
   ]
  },
  {
   "cell_type": "code",
   "execution_count": 9,
   "id": "4d044092-b0c9-4f87-b1b0-ff413dc9125f",
   "metadata": {},
   "outputs": [
    {
     "name": "stdout",
     "output_type": "stream",
     "text": [
      "Step 1: x = 1.8000, f(x) = 8.3200\n",
      "Step 2: x = 0.5200, f(x) = -3.1488\n",
      "Step 3: x = 0.0080, f(x) = -4.9838\n",
      "Step 4: x = -0.1968, f(x) = -5.2774\n",
      "Step 5: x = -0.2787, f(x) = -5.3244\n",
      "Step 6: x = -0.3115, f(x) = -5.3319\n",
      "Step 7: x = -0.3246, f(x) = -5.3331\n",
      "Step 8: x = -0.3298, f(x) = -5.3333\n",
      "Step 9: x = -0.3319, f(x) = -5.3333\n",
      "Step 10: x = -0.3328, f(x) = -5.3333\n"
     ]
    }
   ],
   "source": [
    "# Gradient Descent to minimize f(x)\n",
    "x = 5.0 \n",
    "learning_rate = 0.1\n",
    "\n",
    "for i in range(10):\n",
    "    grad = derivative_f(x)\n",
    "    x = x - learning_rate * grad\n",
    "    print(f\"Step {i+1}: x = {x:.4f}, f(x) = {f(x):.4f}\")\n"
   ]
  },
  {
   "cell_type": "code",
   "execution_count": null,
   "id": "0746111e-3ddf-4639-b5b4-cf22b780682e",
   "metadata": {},
   "outputs": [],
   "source": []
  }
 ],
 "metadata": {
  "kernelspec": {
   "display_name": "Python [conda env:base] *",
   "language": "python",
   "name": "conda-base-py"
  },
  "language_info": {
   "codemirror_mode": {
    "name": "ipython",
    "version": 3
   },
   "file_extension": ".py",
   "mimetype": "text/x-python",
   "name": "python",
   "nbconvert_exporter": "python",
   "pygments_lexer": "ipython3",
   "version": "3.12.7"
  }
 },
 "nbformat": 4,
 "nbformat_minor": 5
}
