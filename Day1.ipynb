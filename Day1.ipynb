{
 "cells": [
  {
   "cell_type": "code",
   "execution_count": 29,
   "id": "67693b0b-96f2-4b76-89cd-534c57182b11",
   "metadata": {},
   "outputs": [],
   "source": [
    "#Loads the dataset from the CSV file\n",
    "import pandas as pd\n",
    "data=pd.read_csv(r\"C:\\Users\\Darsh\\OneDrive\\文档\\houseing1.csv\")"
   ]
  },
  {
   "cell_type": "code",
   "execution_count": 31,
   "id": "dc543e5f-f80a-42ba-8d39-d0cb441f3bc4",
   "metadata": {},
   "outputs": [
    {
     "data": {
      "text/html": [
       "<div>\n",
       "<style scoped>\n",
       "    .dataframe tbody tr th:only-of-type {\n",
       "        vertical-align: middle;\n",
       "    }\n",
       "\n",
       "    .dataframe tbody tr th {\n",
       "        vertical-align: top;\n",
       "    }\n",
       "\n",
       "    .dataframe thead th {\n",
       "        text-align: right;\n",
       "    }\n",
       "</style>\n",
       "<table border=\"1\" class=\"dataframe\">\n",
       "  <thead>\n",
       "    <tr style=\"text-align: right;\">\n",
       "      <th></th>\n",
       "      <th>id</th>\n",
       "      <th>date</th>\n",
       "      <th>price</th>\n",
       "      <th>bedrooms</th>\n",
       "      <th>bathrooms</th>\n",
       "      <th>sqft_living</th>\n",
       "      <th>sqft_lot</th>\n",
       "      <th>floors</th>\n",
       "      <th>waterfront</th>\n",
       "      <th>view</th>\n",
       "      <th>condition</th>\n",
       "      <th>grade</th>\n",
       "      <th>yr_built</th>\n",
       "      <th>yr_renovated</th>\n",
       "      <th>zipcode</th>\n",
       "      <th>lat</th>\n",
       "      <th>long</th>\n",
       "    </tr>\n",
       "  </thead>\n",
       "  <tbody>\n",
       "    <tr>\n",
       "      <th>0</th>\n",
       "      <td>1</td>\n",
       "      <td>2014-10-13</td>\n",
       "      <td>221900</td>\n",
       "      <td>3</td>\n",
       "      <td>1.00</td>\n",
       "      <td>1180</td>\n",
       "      <td>5650</td>\n",
       "      <td>1</td>\n",
       "      <td>0</td>\n",
       "      <td>0</td>\n",
       "      <td>3</td>\n",
       "      <td>7</td>\n",
       "      <td>1955</td>\n",
       "      <td>0</td>\n",
       "      <td>98178</td>\n",
       "      <td>47.5112</td>\n",
       "      <td>-122.257</td>\n",
       "    </tr>\n",
       "    <tr>\n",
       "      <th>1</th>\n",
       "      <td>2</td>\n",
       "      <td>2014-12-09</td>\n",
       "      <td>538000</td>\n",
       "      <td>3</td>\n",
       "      <td>2.25</td>\n",
       "      <td>2570</td>\n",
       "      <td>7242</td>\n",
       "      <td>2</td>\n",
       "      <td>0</td>\n",
       "      <td>0</td>\n",
       "      <td>3</td>\n",
       "      <td>7</td>\n",
       "      <td>1951</td>\n",
       "      <td>1991</td>\n",
       "      <td>98125</td>\n",
       "      <td>47.7210</td>\n",
       "      <td>-122.319</td>\n",
       "    </tr>\n",
       "    <tr>\n",
       "      <th>2</th>\n",
       "      <td>3</td>\n",
       "      <td>2015-02-25</td>\n",
       "      <td>180000</td>\n",
       "      <td>2</td>\n",
       "      <td>1.00</td>\n",
       "      <td>770</td>\n",
       "      <td>10000</td>\n",
       "      <td>1</td>\n",
       "      <td>0</td>\n",
       "      <td>0</td>\n",
       "      <td>3</td>\n",
       "      <td>6</td>\n",
       "      <td>1933</td>\n",
       "      <td>0</td>\n",
       "      <td>98028</td>\n",
       "      <td>47.7379</td>\n",
       "      <td>-122.233</td>\n",
       "    </tr>\n",
       "    <tr>\n",
       "      <th>3</th>\n",
       "      <td>4</td>\n",
       "      <td>2014-12-09</td>\n",
       "      <td>604000</td>\n",
       "      <td>4</td>\n",
       "      <td>3.00</td>\n",
       "      <td>1960</td>\n",
       "      <td>5000</td>\n",
       "      <td>1</td>\n",
       "      <td>0</td>\n",
       "      <td>0</td>\n",
       "      <td>5</td>\n",
       "      <td>7</td>\n",
       "      <td>1965</td>\n",
       "      <td>0</td>\n",
       "      <td>98136</td>\n",
       "      <td>47.5208</td>\n",
       "      <td>-122.393</td>\n",
       "    </tr>\n",
       "    <tr>\n",
       "      <th>4</th>\n",
       "      <td>5</td>\n",
       "      <td>2015-02-18</td>\n",
       "      <td>510000</td>\n",
       "      <td>3</td>\n",
       "      <td>2.00</td>\n",
       "      <td>1680</td>\n",
       "      <td>8080</td>\n",
       "      <td>1</td>\n",
       "      <td>0</td>\n",
       "      <td>0</td>\n",
       "      <td>3</td>\n",
       "      <td>8</td>\n",
       "      <td>1987</td>\n",
       "      <td>0</td>\n",
       "      <td>98074</td>\n",
       "      <td>47.6168</td>\n",
       "      <td>-122.045</td>\n",
       "    </tr>\n",
       "  </tbody>\n",
       "</table>\n",
       "</div>"
      ],
      "text/plain": [
       "   id        date   price  bedrooms  bathrooms  sqft_living  sqft_lot  floors  \\\n",
       "0   1  2014-10-13  221900         3       1.00         1180      5650       1   \n",
       "1   2  2014-12-09  538000         3       2.25         2570      7242       2   \n",
       "2   3  2015-02-25  180000         2       1.00          770     10000       1   \n",
       "3   4  2014-12-09  604000         4       3.00         1960      5000       1   \n",
       "4   5  2015-02-18  510000         3       2.00         1680      8080       1   \n",
       "\n",
       "   waterfront  view  condition  grade  yr_built  yr_renovated  zipcode  \\\n",
       "0           0     0          3      7      1955             0    98178   \n",
       "1           0     0          3      7      1951          1991    98125   \n",
       "2           0     0          3      6      1933             0    98028   \n",
       "3           0     0          5      7      1965             0    98136   \n",
       "4           0     0          3      8      1987             0    98074   \n",
       "\n",
       "       lat     long  \n",
       "0  47.5112 -122.257  \n",
       "1  47.7210 -122.319  \n",
       "2  47.7379 -122.233  \n",
       "3  47.5208 -122.393  \n",
       "4  47.6168 -122.045  "
      ]
     },
     "execution_count": 31,
     "metadata": {},
     "output_type": "execute_result"
    }
   ],
   "source": [
    "data.head()"
   ]
  },
  {
   "cell_type": "code",
   "execution_count": 33,
   "id": "17261b85-09e5-451e-9ad2-045ef9bd4513",
   "metadata": {},
   "outputs": [
    {
     "name": "stdout",
     "output_type": "stream",
     "text": [
      "0    5\n",
      "1    8\n",
      "2    7\n",
      "3    3\n",
      "4    2\n",
      "Name: rooms, dtype: int64\n"
     ]
    }
   ],
   "source": [
    "data = [5, 8, 7 , 3 ,2]\n",
    "House_counts = pd.Series(data, name='rooms')\n",
    "print(House_counts)"
   ]
  },
  {
   "cell_type": "code",
   "execution_count": 35,
   "id": "c7d48663-26f7-4b95-905b-46d62f29b124",
   "metadata": {},
   "outputs": [
    {
     "name": "stdout",
     "output_type": "stream",
     "text": [
      "   0     1\n",
      "0  5  1955\n",
      "1  8  1987\n",
      "2  7  1933\n",
      "3  3  1951\n",
      "4  2  1965\n"
     ]
    }
   ],
   "source": [
    "yr_built = [1955, 1987, 1933, 1951, 1965]\n",
    "joined_data = list(zip(data, yr_built))\n",
    "act_df = pd.DataFrame(joined_data)\n",
    "print(act_df)"
   ]
  },
  {
   "cell_type": "code",
   "execution_count": 37,
   "id": "59f702a2-b03f-4dff-8b73-5ba6b9e7f65f",
   "metadata": {},
   "outputs": [
    {
     "data": {
      "text/html": [
       "<div>\n",
       "<style scoped>\n",
       "    .dataframe tbody tr th:only-of-type {\n",
       "        vertical-align: middle;\n",
       "    }\n",
       "\n",
       "    .dataframe tbody tr th {\n",
       "        vertical-align: top;\n",
       "    }\n",
       "\n",
       "    .dataframe thead th {\n",
       "        text-align: right;\n",
       "    }\n",
       "</style>\n",
       "<table border=\"1\" class=\"dataframe\">\n",
       "  <thead>\n",
       "    <tr style=\"text-align: right;\">\n",
       "      <th></th>\n",
       "      <th>0</th>\n",
       "      <th>1</th>\n",
       "    </tr>\n",
       "  </thead>\n",
       "  <tbody>\n",
       "    <tr>\n",
       "      <th>3</th>\n",
       "      <td>3</td>\n",
       "      <td>1951</td>\n",
       "    </tr>\n",
       "    <tr>\n",
       "      <th>4</th>\n",
       "      <td>2</td>\n",
       "      <td>1965</td>\n",
       "    </tr>\n",
       "  </tbody>\n",
       "</table>\n",
       "</div>"
      ],
      "text/plain": [
       "   0     1\n",
       "3  3  1951\n",
       "4  2  1965"
      ]
     },
     "execution_count": 37,
     "metadata": {},
     "output_type": "execute_result"
    }
   ],
   "source": [
    "act_df.iloc[3:5]"
   ]
  },
  {
   "cell_type": "code",
   "execution_count": 39,
   "id": "b6c1f008-57b5-4f2f-b8b6-060ddd12b513",
   "metadata": {},
   "outputs": [
    {
     "ename": "KeyError",
     "evalue": "'yr_built'",
     "output_type": "error",
     "traceback": [
      "\u001b[1;31m---------------------------------------------------------------------------\u001b[0m",
      "\u001b[1;31mKeyError\u001b[0m                                  Traceback (most recent call last)",
      "Cell \u001b[1;32mIn[39], line 1\u001b[0m\n\u001b[1;32m----> 1\u001b[0m act_df[\u001b[38;5;124m\"\u001b[39m\u001b[38;5;124myr_built\u001b[39m\u001b[38;5;124m\"\u001b[39m]\n",
      "File \u001b[1;32m~\\anaconda3\\Lib\\site-packages\\pandas\\core\\frame.py:4102\u001b[0m, in \u001b[0;36mDataFrame.__getitem__\u001b[1;34m(self, key)\u001b[0m\n\u001b[0;32m   4100\u001b[0m \u001b[38;5;28;01mif\u001b[39;00m \u001b[38;5;28mself\u001b[39m\u001b[38;5;241m.\u001b[39mcolumns\u001b[38;5;241m.\u001b[39mnlevels \u001b[38;5;241m>\u001b[39m \u001b[38;5;241m1\u001b[39m:\n\u001b[0;32m   4101\u001b[0m     \u001b[38;5;28;01mreturn\u001b[39;00m \u001b[38;5;28mself\u001b[39m\u001b[38;5;241m.\u001b[39m_getitem_multilevel(key)\n\u001b[1;32m-> 4102\u001b[0m indexer \u001b[38;5;241m=\u001b[39m \u001b[38;5;28mself\u001b[39m\u001b[38;5;241m.\u001b[39mcolumns\u001b[38;5;241m.\u001b[39mget_loc(key)\n\u001b[0;32m   4103\u001b[0m \u001b[38;5;28;01mif\u001b[39;00m is_integer(indexer):\n\u001b[0;32m   4104\u001b[0m     indexer \u001b[38;5;241m=\u001b[39m [indexer]\n",
      "File \u001b[1;32m~\\anaconda3\\Lib\\site-packages\\pandas\\core\\indexes\\range.py:417\u001b[0m, in \u001b[0;36mRangeIndex.get_loc\u001b[1;34m(self, key)\u001b[0m\n\u001b[0;32m    415\u001b[0m         \u001b[38;5;28;01mraise\u001b[39;00m \u001b[38;5;167;01mKeyError\u001b[39;00m(key) \u001b[38;5;28;01mfrom\u001b[39;00m \u001b[38;5;21;01merr\u001b[39;00m\n\u001b[0;32m    416\u001b[0m \u001b[38;5;28;01mif\u001b[39;00m \u001b[38;5;28misinstance\u001b[39m(key, Hashable):\n\u001b[1;32m--> 417\u001b[0m     \u001b[38;5;28;01mraise\u001b[39;00m \u001b[38;5;167;01mKeyError\u001b[39;00m(key)\n\u001b[0;32m    418\u001b[0m \u001b[38;5;28mself\u001b[39m\u001b[38;5;241m.\u001b[39m_check_indexing_error(key)\n\u001b[0;32m    419\u001b[0m \u001b[38;5;28;01mraise\u001b[39;00m \u001b[38;5;167;01mKeyError\u001b[39;00m(key)\n",
      "\u001b[1;31mKeyError\u001b[0m: 'yr_built'"
     ]
    }
   ],
   "source": [
    "act_df[\"yr_built\"]"
   ]
  },
  {
   "cell_type": "code",
   "execution_count": 41,
   "id": "4dc5d423-1299-4042-805d-841bdb56acfa",
   "metadata": {},
   "outputs": [
    {
     "name": "stdout",
     "output_type": "stream",
     "text": [
      "8\n"
     ]
    }
   ],
   "source": [
    "print(House_counts[1])"
   ]
  },
  {
   "cell_type": "code",
   "execution_count": 47,
   "id": "02aafeb0-b10e-4565-a6d9-b76b50bdb5ac",
   "metadata": {},
   "outputs": [],
   "source": [
    "#Loads the dataset from the CSV file\n",
    "import pandas as pd\n",
    "data=pd.read_csv(r\"C:\\Users\\Darsh\\OneDrive\\文档\\houseing1.csv\")"
   ]
  },
  {
   "cell_type": "code",
   "execution_count": 49,
   "id": "f6bfa8d3-3893-4562-827f-61d80585bf31",
   "metadata": {},
   "outputs": [
    {
     "name": "stdout",
     "output_type": "stream",
     "text": [
      "Initial Data Info:\n",
      "<class 'pandas.core.frame.DataFrame'>\n",
      "RangeIndex: 10 entries, 0 to 9\n",
      "Data columns (total 17 columns):\n",
      " #   Column        Non-Null Count  Dtype  \n",
      "---  ------        --------------  -----  \n",
      " 0   id            10 non-null     int64  \n",
      " 1   date          10 non-null     object \n",
      " 2   price         10 non-null     int64  \n",
      " 3   bedrooms      10 non-null     int64  \n",
      " 4   bathrooms     10 non-null     float64\n",
      " 5   sqft_living   10 non-null     int64  \n",
      " 6   sqft_lot      10 non-null     int64  \n",
      " 7   floors        10 non-null     int64  \n",
      " 8   waterfront    10 non-null     int64  \n",
      " 9   view          10 non-null     int64  \n",
      " 10  condition     10 non-null     int64  \n",
      " 11  grade         10 non-null     int64  \n",
      " 12  yr_built      10 non-null     int64  \n",
      " 13  yr_renovated  10 non-null     int64  \n",
      " 14  zipcode       10 non-null     int64  \n",
      " 15  lat           10 non-null     float64\n",
      " 16  long          10 non-null     float64\n",
      "dtypes: float64(3), int64(13), object(1)\n",
      "memory usage: 1.5+ KB\n",
      "None\n",
      "\n",
      "Missing Values:\n",
      " id              0\n",
      "date            0\n",
      "price           0\n",
      "bedrooms        0\n",
      "bathrooms       0\n",
      "sqft_living     0\n",
      "sqft_lot        0\n",
      "floors          0\n",
      "waterfront      0\n",
      "view            0\n",
      "condition       0\n",
      "grade           0\n",
      "yr_built        0\n",
      "yr_renovated    0\n",
      "zipcode         0\n",
      "lat             0\n",
      "long            0\n",
      "dtype: int64\n"
     ]
    }
   ],
   "source": [
    "print(\"Initial Data Info:\")\n",
    "print(data.info())\n",
    "print(\"\\nMissing Values:\\n\", data.isnull().sum())"
   ]
  },
  {
   "cell_type": "code",
   "execution_count": 55,
   "id": "af7348b3-b1fa-4000-ab71-a1c8df8edfe1",
   "metadata": {},
   "outputs": [],
   "source": [
    "import seaborn as sns\n",
    "sns.set(style=\"whitegrid\")"
   ]
  },
  {
   "cell_type": "code",
   "execution_count": 61,
   "id": "2cba23e5-e990-4d32-82ac-7f99f2395961",
   "metadata": {},
   "outputs": [
    {
     "data": {
      "image/png": "[encoded data removed]",
      "text/plain": [
       "<Figure size 1000x600 with 1 Axes>"
      ]
     },
     "metadata": {},
     "output_type": "display_data"
    }
   ],
   "source": [
    "plt.figure(figsize=(10,6))\n",
    "sns.histplot(data['price'], bins=50, kde=True)\n",
    "plt.title('Distribution of House Prices')\n",
    "plt.xlabel('Price')\n",
    "plt.ylabel('Frequency')\n",
    "plt.show()\n"
   ]
  },
  {
   "cell_type": "code",
   "execution_count": 65,
   "id": "18479c92-d125-40ee-9d39-e83e53b68822",
   "metadata": {},
   "outputs": [
    {
     "data": {
      "image/png": "[encoded data removed]",
      "text/plain": [
       "<Figure size 1000x600 with 1 Axes>"
      ]
     },
     "metadata": {},
     "output_type": "display_data"
    }
   ],
   "source": [
    "plt.figure(figsize=(10,6))\n",
    "sns.scatterplot(data=data, x='sqft_living', y='price', hue='bedrooms', palette='viridis')\n",
    "plt.title('Price vs. Sqft Living (Colored by Bedrooms)')\n",
    "plt.xlabel('Sqft Living')\n",
    "plt.ylabel('Price')\n",
    "plt.show()\n"
   ]
  },
  {
   "cell_type": "code",
   "execution_count": null,
   "id": "e19f47d7-ba8b-45ad-bf05-8c5006af70f2",
   "metadata": {},
   "outputs": [],
   "source": []
  }
 ],
 "metadata": {
  "kernelspec": {
   "display_name": "Python [conda env:base] *",
   "language": "python",
   "name": "conda-base-py"
  },
  "language_info": {
   "codemirror_mode": {
    "name": "ipython",
    "version": 3
   },
   "file_extension": ".py",
   "mimetype": "text/x-python",
   "name": "python",
   "nbconvert_exporter": "python",
   "pygments_lexer": "ipython3",
   "version": "3.12.7"
  }
 },
 "nbformat": 4,
 "nbformat_minor": 5
}
